{
 "cells": [
  {
   "cell_type": "code",
   "execution_count": 1,
   "metadata": {},
   "outputs": [],
   "source": [
    "import itertools\n",
    "import numpy as np\n",
    "import matplotlib.pyplot as plt"
   ]
  },
  {
   "cell_type": "code",
   "execution_count": 25,
   "metadata": {},
   "outputs": [],
   "source": [
    "def get_cluster_number(index, cluster):\n",
    "    i = index\n",
    "    while i != cluster[i]:\n",
    "        print(i)\n",
    "        print(cluster[i])\n",
    "        i = cluster[i]\n",
    "    return i\n",
    "\n",
    "\n",
    "def connect_bond(x1, y1, x2, y2, L, p, spins, cluster):\n",
    "    if spins[x1, y1]*spins[x2, y2] < 0:\n",
    "        return cluster\n",
    "    if np.random.rand() > p:\n",
    "        return cluster\n",
    "    # print(cluster)\n",
    "    i1 = x1 + L*y1\n",
    "    i2 = x2 + L*y2\n",
    "    c1 = get_cluster_number(i1, cluster)\n",
    "    c2 = get_cluster_number(i2, cluster)\n",
    "    if c1 < c2:\n",
    "        # cluster[c2] = c1\n",
    "        cluster[c2] = cluster[c1]\n",
    "    else:\n",
    "        # cluster[c1] = c2\n",
    "        cluster[c1] = cluster[c2]\n",
    "    return cluster"
   ]
  },
  {
   "cell_type": "code",
   "execution_count": 19,
   "metadata": {},
   "outputs": [
    {
     "name": "stdout",
     "output_type": "stream",
     "text": [
      "##\n",
      "0 0\n",
      "[[0 1 2]\n",
      " [3 4 5]\n",
      " [6 7 8]]\n",
      "[[0 0 2]\n",
      " [3 4 5]\n",
      " [6 7 8]]\n",
      "##\n",
      "0 1\n",
      "[[0 0 2]\n",
      " [3 4 5]\n",
      " [6 7 8]]\n",
      "[[0 0 2]\n",
      " [3 3 5]\n",
      " [6 7 8]]\n",
      "##\n",
      "0 2\n",
      "[[0 0 2]\n",
      " [3 3 5]\n",
      " [6 7 8]]\n",
      "[[0 0 2]\n",
      " [3 3 5]\n",
      " [6 6 8]]\n",
      "##\n",
      "1 0\n",
      "[[0 0 2]\n",
      " [3 3 5]\n",
      " [6 6 8]]\n",
      "[[0 0 2]\n",
      " [3 3 5]\n",
      " [6 6 8]]\n",
      "##\n",
      "1 1\n",
      "[[0 0 2]\n",
      " [3 3 5]\n",
      " [6 6 8]]\n",
      "[[0 0 2]\n",
      " [3 3 5]\n",
      " [6 6 8]]\n",
      "##\n",
      "1 2\n",
      "[[0 0 2]\n",
      " [3 3 5]\n",
      " [6 6 8]]\n",
      "[[0 0 2]\n",
      " [3 3 5]\n",
      " [6 6 8]]\n",
      "##\n",
      "2 0\n",
      "[[0 0 2]\n",
      " [3 3 5]\n",
      " [6 6 8]]\n",
      "[[0 0 2]\n",
      " [3 3 5]\n",
      " [6 6 8]]\n",
      "##\n",
      "2 1\n",
      "[[0 0 2]\n",
      " [3 3 5]\n",
      " [6 6 8]]\n",
      "[[0 0 2]\n",
      " [3 3 5]\n",
      " [6 6 8]]\n",
      "##\n",
      "2 2\n",
      "[[0 0 2]\n",
      " [3 3 5]\n",
      " [6 6 8]]\n",
      "[[0 0 2]\n",
      " [3 3 5]\n",
      " [6 6 8]]\n",
      "##\n",
      "0 0\n",
      "[[0 0 2]\n",
      " [3 3 5]\n",
      " [6 6 8]]\n",
      "[[0 0 2]\n",
      " [0 3 5]\n",
      " [6 6 8]]\n",
      "##\n",
      "0 1\n",
      "[[0 0 2]\n",
      " [0 3 5]\n",
      " [6 6 8]]\n",
      "[[0 0 2]\n",
      " [0 3 5]\n",
      " [0 6 8]]\n",
      "##\n",
      "0 2\n",
      "[[0 0 2]\n",
      " [0 3 5]\n",
      " [0 6 8]]\n",
      "[[0 0 2]\n",
      " [0 3 5]\n",
      " [0 6 8]]\n",
      "##\n",
      "1 0\n",
      "[[0 0 2]\n",
      " [0 3 5]\n",
      " [0 6 8]]\n",
      "[[0 0 2]\n",
      " [0 3 5]\n",
      " [0 6 8]]\n",
      "##\n",
      "1 1\n",
      "[[0 0 2]\n",
      " [0 3 5]\n",
      " [0 6 8]]\n",
      "[[0 0 2]\n",
      " [0 3 5]\n",
      " [0 6 8]]\n",
      "##\n",
      "1 2\n",
      "[[0 0 2]\n",
      " [0 3 5]\n",
      " [0 6 8]]\n",
      "[[0 0 2]\n",
      " [0 3 5]\n",
      " [0 6 8]]\n",
      "##\n",
      "2 0\n",
      "[[0 0 2]\n",
      " [0 3 5]\n",
      " [0 6 8]]\n",
      "[[0 0 2]\n",
      " [0 3 2]\n",
      " [0 6 8]]\n",
      "##\n",
      "2 1\n",
      "[[0 0 2]\n",
      " [0 3 2]\n",
      " [0 6 8]]\n",
      "[[0 0 2]\n",
      " [0 3 2]\n",
      " [0 6 2]]\n",
      "##\n",
      "2 2\n",
      "[[0 0 2]\n",
      " [0 3 2]\n",
      " [0 6 2]]\n",
      "[[0 0 2]\n",
      " [0 3 2]\n",
      " [0 6 2]]\n"
     ]
    }
   ],
   "source": [
    "L = 3\n",
    "# spins = np.random.choice([-1, 1], size=(L, L))\n",
    "spins = np.array([[-1, -1, -1], [-1, -1, -1], [1, 1, 1]])\n",
    "cluster = np.arange(L**2)\n",
    "flip = np.random.choice([-1, 1], size=(L**2))\n",
    "p = 1\n",
    "for x in range(L):\n",
    "    for y in range(L):\n",
    "        print(\"##\")\n",
    "        print(x, y)\n",
    "        print(cluster.reshape([3, 3]))\n",
    "        cluster = connect_bond(x, y, (x+1) % L, y, L, p, spins, cluster)\n",
    "#        cluster = connect_bond(x, y, x, (y+1) % L, L, p, spins, cluster)\n",
    "        print(cluster.reshape([3, 3]))\n",
    "for x in range(L):\n",
    "    for y in range(L):\n",
    "        print(\"##\")\n",
    "        print(x, y)\n",
    "        print(cluster.reshape([3, 3]))\n",
    "        cluster = connect_bond(x, y, x, (y+1) % L, L, p, spins, cluster)\n",
    "        print(cluster.reshape([3, 3]))"
   ]
  },
  {
   "cell_type": "code",
   "execution_count": 20,
   "metadata": {},
   "outputs": [
    {
     "name": "stdout",
     "output_type": "stream",
     "text": [
      "##\n",
      "0\n",
      "0\n",
      "##\n",
      "3\n",
      "0\n",
      "##\n",
      "6\n",
      "0\n",
      "##\n",
      "1\n",
      "0\n",
      "##\n",
      "4\n",
      "3\n",
      "##\n",
      "7\n",
      "6\n",
      "##\n",
      "2\n",
      "2\n",
      "##\n",
      "5\n",
      "2\n",
      "##\n",
      "8\n",
      "2\n"
     ]
    }
   ],
   "source": [
    "for x in range(L):\n",
    "    for y in range(L):\n",
    "        i = x + L*y\n",
    "        print(\"##\")\n",
    "        print(i)\n",
    "        c = get_cluster_number(i, cluster)\n",
    "        print(c)\n",
    "        spins[x, y] = flip[c]"
   ]
  },
  {
   "cell_type": "code",
   "execution_count": 27,
   "metadata": {},
   "outputs": [
    {
     "data": {
      "text/plain": [
       "0"
      ]
     },
     "execution_count": 27,
     "metadata": {},
     "output_type": "execute_result"
    }
   ],
   "source": [
    "cluster[6]"
   ]
  },
  {
   "cell_type": "code",
   "execution_count": 26,
   "metadata": {},
   "outputs": [
    {
     "name": "stdout",
     "output_type": "stream",
     "text": [
      "7\n",
      "6\n"
     ]
    },
    {
     "data": {
      "text/plain": [
       "6"
      ]
     },
     "execution_count": 26,
     "metadata": {},
     "output_type": "execute_result"
    }
   ],
   "source": [
    "get_cluster_number(7, cluster)"
   ]
  },
  {
   "cell_type": "code",
   "execution_count": 22,
   "metadata": {},
   "outputs": [
    {
     "data": {
      "text/plain": [
       "<matplotlib.collections.QuadMesh at 0x7f03b2dfd940>"
      ]
     },
     "execution_count": 22,
     "metadata": {},
     "output_type": "execute_result"
    },
    {
     "data": {
      "image/png": "[encoded data removed]",
      "text/plain": [
       "<Figure size 640x480 with 1 Axes>"
      ]
     },
     "metadata": {},
     "output_type": "display_data"
    }
   ],
   "source": [
    "fig, ax = plt.subplots()\n",
    "X, Y = np.meshgrid(range(L), range(L))\n",
    "ax.pcolormesh(X, Y, spins)"
   ]
  },
  {
   "cell_type": "code",
   "execution_count": null,
   "metadata": {},
   "outputs": [],
   "source": []
  }
 ],
 "metadata": {
  "kernelspec": {
   "display_name": "base",
   "language": "python",
   "name": "python3"
  },
  "language_info": {
   "codemirror_mode": {
    "name": "ipython",
    "version": 3
   },
   "file_extension": ".py",
   "mimetype": "text/x-python",
   "name": "python",
   "nbconvert_exporter": "python",
   "pygments_lexer": "ipython3",
   "version": "3.9.12"
  },
  "orig_nbformat": 4
 },
 "nbformat": 4,
 "nbformat_minor": 2
}
